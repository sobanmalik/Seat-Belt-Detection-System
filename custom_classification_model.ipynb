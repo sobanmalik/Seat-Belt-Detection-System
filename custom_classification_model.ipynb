{
 "cells": [
  {
   "cell_type": "code",
   "execution_count": 1,
   "id": "db3416e4",
   "metadata": {},
   "outputs": [],
   "source": [
    "from warnings import filterwarnings\n",
    "filterwarnings('ignore')\n",
    "import os\n",
    "os.environ['KERAS_BACKEND'] = 'tensorflow'\n",
    "import keras\n",
    "from keras.preprocessing.image import ImageDataGenerator\n",
    "from keras.models import Model,Sequential\n",
    "from keras.layers import Conv2D,MaxPooling2D,BatchNormalization\n",
    "from keras.layers import Activation,Dropout,Flatten,Dense,GlobalAveragePooling2D\n",
    "from keras import backend as K\n",
    "from keras.optimizers import *\n",
    "from keras.callbacks import ModelCheckpoint,EarlyStopping,LearningRateScheduler\n",
    "import numpy as np\n",
    "seed = 9\n",
    "np.random.seed(seed=seed)\n",
    "# tf.set_random_seed(seed=seed)\n",
    "from PIL import ImageFile\n",
    "ImageFile.LOAD_TRUNCATED_IMAGES = True"
   ]
  },
  {
   "cell_type": "code",
   "execution_count": 2,
   "id": "08160978",
   "metadata": {},
   "outputs": [],
   "source": [
    "transformation_ratio = 0.05\n",
    "momentum = 0.9\n",
    "img_width,img_height = 416,416\n",
    "batch_size = 4\n",
    "# nb_epoch= 100\n",
    "learn_rate = 1e-4\n",
    "nb_classes = 2"
   ]
  },
  {
   "cell_type": "code",
   "execution_count": 3,
   "id": "7dd91ecb",
   "metadata": {},
   "outputs": [
    {
     "name": "stdout",
     "output_type": "stream",
     "text": [
      "Found 394 images belonging to 2 classes.\n",
      "Found 60 images belonging to 2 classes.\n",
      "{'person_no_seatbelt': 0, 'person_seatbelt': 1}\n"
     ]
    }
   ],
   "source": [
    "train_data_dir = 'data/train'\n",
    "validation_data_dir = 'data/val'\n",
    "train_datagen = ImageDataGenerator(rescale = 1./255,\n",
    "                                   shear_range = 0.2,\n",
    "                                   zoom_range = 0.2,\n",
    "                                   horizontal_flip = True,\n",
    "                                   width_shift_range=0.2,\n",
    "                                   height_shift_range=0.2,\n",
    "                                   rotation_range=15,\n",
    "#                                    vertical_flip=True,\n",
    "                                   fill_mode='reflect',\n",
    "                                   data_format='channels_last',\n",
    "                                   brightness_range=[0.5, 1.5],\n",
    "                                   featurewise_center=True,\n",
    "                                   featurewise_std_normalization=True)\n",
    "\n",
    "validation_datagen = ImageDataGenerator(rescale=1. / 255)\n",
    "\n",
    "train_generator = train_datagen.flow_from_directory(train_data_dir,\n",
    "                                                    target_size=(img_width, img_height),\n",
    "                                                    batch_size=batch_size,\n",
    "                                                    class_mode='categorical')\n",
    "\n",
    "validation_generator = validation_datagen.flow_from_directory(validation_data_dir,\n",
    "                                                              target_size=(img_width, img_height),\n",
    "                                                              batch_size=batch_size,\n",
    "                                                              class_mode='categorical')\n",
    "\n",
    "label_map = (train_generator.class_indices)\n",
    "print(label_map)"
   ]
  },
  {
   "cell_type": "code",
   "execution_count": 4,
   "id": "1dd9e27a",
   "metadata": {},
   "outputs": [],
   "source": [
    "def schedule(epoch, decay=0.9):\n",
    "    return base_lr * decay**(epoch)"
   ]
  },
  {
   "cell_type": "code",
   "execution_count": 5,
   "id": "ec44825a",
   "metadata": {},
   "outputs": [],
   "source": [
    "# base_lr = 1e-4\n",
    "path_to_weights = \"./model_weights/custom_weights-{epoch:02d}-{val_loss:.2f}.h5\"\n",
    "callbacks_list = [\n",
    "    ModelCheckpoint(path_to_weights,monitor = 'val_loss',verbose = 1,save_weights_only = False),\n",
    "#     EarlyStopping(monitor = 'val_loss',patience = 5,verbose = 1)\n",
    "#     LearningRateScheduler(schedule,verbose = 1)\n",
    "]\n"
   ]
  },
  {
   "cell_type": "code",
   "execution_count": 6,
   "id": "8d6000d4",
   "metadata": {},
   "outputs": [],
   "source": [
    "input_shape = (416,416,3)\n",
    "model = Sequential()\n",
    "\n",
    "model.add(Conv2D(32, (3, 3), padding='Same', input_shape=input_shape, activation='relu'))\n",
    "model.add(Conv2D(32, (3, 3), padding='Same', activation='relu'))\n",
    "model.add(MaxPooling2D(pool_size=(2, 2)))\n",
    "\n",
    "model.add(Conv2D(64, (3, 3), padding='Same', activation='relu'))\n",
    "model.add(Conv2D(64, (3, 3), padding='Same', activation='relu'))\n",
    "model.add(MaxPooling2D(pool_size=(2, 2)))\n",
    "\n",
    "model.add(Conv2D(128, (3, 3), padding='Same', activation='relu'))\n",
    "model.add(Conv2D(128, (3, 3), padding='Same', activation='relu'))\n",
    "# model.add(BatchNormalization())\n",
    "model.add(MaxPooling2D(pool_size=(2, 2)))\n",
    "\n",
    "# model.add(Conv2D(256,(3, 3), padding='Same', activation='relu'))\n",
    "# model.add(Conv2D(256,(3, 3), padding='Same', activation='relu'))\n",
    "# model.add(Conv2D(256, (3, 3), padding='Same', activation='relu'))\n",
    "# # model.add(BatchNormalization())\n",
    "# model.add(MaxPooling2D(pool_size=(2, 2)))\n",
    "\n",
    "model.add(Conv2D(512,(3, 3), padding='Same', activation='relu'))\n",
    "model.add(Conv2D(512,(3, 3), padding='Same', activation='relu'))\n",
    "model.add(Conv2D(512, (3, 3), padding='Same', activation='relu'))\n",
    "model.add(BatchNormalization())\n",
    "model.add(MaxPooling2D(pool_size=(2, 2)))\n",
    "\n",
    "\n",
    "model.add(Conv2D(128, (3, 3), padding='Same', activation='relu'))\n",
    "model.add(Conv2D(128, (3, 3), padding='Same', activation='relu'))\n",
    "# model.add(BatchNormalization())\n",
    "model.add(MaxPooling2D(pool_size=(2, 2)))\n",
    "\n",
    "model.add(Flatten())\n",
    "model.add(Dense(1024, activation='relu'))\n",
    "model.add(Dropout(0.5))\n",
    "model.add(Dense(1024, activation='relu'))\n",
    "model.add(Dropout(0.5))\n",
    "# model.add(GlobalAveragePooling2D())\n",
    "model.add(Dense(2))\n",
    "model.add(Activation('sigmoid'))"
   ]
  },
  {
   "cell_type": "code",
   "execution_count": 7,
   "id": "4833224d",
   "metadata": {},
   "outputs": [
    {
     "name": "stdout",
     "output_type": "stream",
     "text": [
      "Model: \"sequential\"\n",
      "_________________________________________________________________\n",
      "Layer (type)                 Output Shape              Param #   \n",
      "=================================================================\n",
      "conv2d (Conv2D)              (None, 416, 416, 32)      896       \n",
      "_________________________________________________________________\n",
      "conv2d_1 (Conv2D)            (None, 416, 416, 32)      9248      \n",
      "_________________________________________________________________\n",
      "max_pooling2d (MaxPooling2D) (None, 208, 208, 32)      0         \n",
      "_________________________________________________________________\n",
      "conv2d_2 (Conv2D)            (None, 208, 208, 64)      18496     \n",
      "_________________________________________________________________\n",
      "conv2d_3 (Conv2D)            (None, 208, 208, 64)      36928     \n",
      "_________________________________________________________________\n",
      "max_pooling2d_1 (MaxPooling2 (None, 104, 104, 64)      0         \n",
      "_________________________________________________________________\n",
      "conv2d_4 (Conv2D)            (None, 104, 104, 128)     73856     \n",
      "_________________________________________________________________\n",
      "conv2d_5 (Conv2D)            (None, 104, 104, 128)     147584    \n",
      "_________________________________________________________________\n",
      "max_pooling2d_2 (MaxPooling2 (None, 52, 52, 128)       0         \n",
      "_________________________________________________________________\n",
      "conv2d_6 (Conv2D)            (None, 52, 52, 512)       590336    \n",
      "_________________________________________________________________\n",
      "conv2d_7 (Conv2D)            (None, 52, 52, 512)       2359808   \n",
      "_________________________________________________________________\n",
      "conv2d_8 (Conv2D)            (None, 52, 52, 512)       2359808   \n",
      "_________________________________________________________________\n",
      "batch_normalization (BatchNo (None, 52, 52, 512)       2048      \n",
      "_________________________________________________________________\n",
      "max_pooling2d_3 (MaxPooling2 (None, 26, 26, 512)       0         \n",
      "_________________________________________________________________\n",
      "conv2d_9 (Conv2D)            (None, 26, 26, 128)       589952    \n",
      "_________________________________________________________________\n",
      "conv2d_10 (Conv2D)           (None, 26, 26, 128)       147584    \n",
      "_________________________________________________________________\n",
      "max_pooling2d_4 (MaxPooling2 (None, 13, 13, 128)       0         \n",
      "_________________________________________________________________\n",
      "flatten (Flatten)            (None, 21632)             0         \n",
      "_________________________________________________________________\n",
      "dense (Dense)                (None, 1024)              22152192  \n",
      "_________________________________________________________________\n",
      "dropout (Dropout)            (None, 1024)              0         \n",
      "_________________________________________________________________\n",
      "dense_1 (Dense)              (None, 1024)              1049600   \n",
      "_________________________________________________________________\n",
      "dropout_1 (Dropout)          (None, 1024)              0         \n",
      "_________________________________________________________________\n",
      "dense_2 (Dense)              (None, 2)                 2050      \n",
      "_________________________________________________________________\n",
      "activation (Activation)      (None, 2)                 0         \n",
      "=================================================================\n",
      "Total params: 29,540,386\n",
      "Trainable params: 29,539,362\n",
      "Non-trainable params: 1,024\n",
      "_________________________________________________________________\n"
     ]
    }
   ],
   "source": [
    "model.summary()"
   ]
  },
  {
   "cell_type": "code",
   "execution_count": 8,
   "id": "16d7cbf8",
   "metadata": {},
   "outputs": [],
   "source": [
    "model.compile(loss='binary_crossentropy',\n",
    "            optimizer=tf.keras.optimizers.Adam(lr=learn_rate, beta_1=0.9, beta_2=0.999),\n",
    "            metrics=['accuracy'])"
   ]
  },
  {
   "cell_type": "code",
   "execution_count": 9,
   "id": "1295d502",
   "metadata": {},
   "outputs": [
    {
     "data": {
      "text/plain": [
       "98"
      ]
     },
     "execution_count": 9,
     "metadata": {},
     "output_type": "execute_result"
    }
   ],
   "source": [
    "394//4"
   ]
  },
  {
   "cell_type": "code",
   "execution_count": 10,
   "id": "71183fd5",
   "metadata": {},
   "outputs": [
    {
     "name": "stdout",
     "output_type": "stream",
     "text": [
      "Epoch 1/10\n",
      "98/98 [==============================] - 229s 2s/step - loss: 0.3950 - accuracy: 0.8000 - val_loss: 0.4384 - val_accuracy: 0.6500\n",
      "\n",
      "Epoch 00001: saving model to .model_weights/custom_weights-01-0.44.h5\n",
      "Epoch 2/10\n",
      "98/98 [==============================] - 220s 2s/step - loss: 0.2641 - accuracy: 0.8949 - val_loss: 0.3828 - val_accuracy: 0.9500\n",
      "\n",
      "Epoch 00002: saving model to .model_weights/custom_weights-02-0.38.h5\n",
      "Epoch 3/10\n",
      "98/98 [==============================] - 219s 2s/step - loss: 0.1814 - accuracy: 0.9667 - val_loss: 0.4067 - val_accuracy: 0.8000\n",
      "\n",
      "Epoch 00003: saving model to .model_weights/custom_weights-03-0.41.h5\n",
      "Epoch 4/10\n",
      "98/98 [==============================] - 218s 2s/step - loss: 0.2762 - accuracy: 0.9282 - val_loss: 0.3077 - val_accuracy: 0.9333\n",
      "\n",
      "Epoch 00004: saving model to .model_weights/custom_weights-04-0.31.h5\n",
      "Epoch 5/10\n",
      "98/98 [==============================] - 226s 2s/step - loss: 0.1667 - accuracy: 0.9436 - val_loss: 0.1061 - val_accuracy: 0.9500\n",
      "\n",
      "Epoch 00005: saving model to .model_weights/custom_weights-05-0.11.h5\n",
      "Epoch 6/10\n",
      "98/98 [==============================] - 224s 2s/step - loss: 0.2701 - accuracy: 0.9333 - val_loss: 0.1085 - val_accuracy: 0.9667\n",
      "\n",
      "Epoch 00006: saving model to .model_weights/custom_weights-06-0.11.h5\n",
      "Epoch 7/10\n",
      "98/98 [==============================] - 226s 2s/step - loss: 0.1631 - accuracy: 0.9615 - val_loss: 0.3577 - val_accuracy: 0.8500\n",
      "\n",
      "Epoch 00007: saving model to .model_weights/custom_weights-07-0.36.h5\n",
      "Epoch 8/10\n",
      "98/98 [==============================] - 226s 2s/step - loss: 0.1616 - accuracy: 0.9462 - val_loss: 0.0650 - val_accuracy: 0.9833\n",
      "\n",
      "Epoch 00008: saving model to .model_weights/custom_weights-08-0.06.h5\n",
      "Epoch 9/10\n",
      "98/98 [==============================] - 226s 2s/step - loss: 0.0905 - accuracy: 0.9769 - val_loss: 0.3995 - val_accuracy: 0.9167\n",
      "\n",
      "Epoch 00009: saving model to .model_weights/custom_weights-09-0.40.h5\n",
      "Epoch 10/10\n",
      "98/98 [==============================] - 232s 2s/step - loss: 0.1143 - accuracy: 0.9769 - val_loss: 0.3828 - val_accuracy: 0.8833\n",
      "\n",
      "Epoch 00010: saving model to .model_weights/custom_weights-10-0.38.h5\n"
     ]
    }
   ],
   "source": [
    "history = model.fit_generator(train_generator,\n",
    "                              steps_per_epoch = 98,\n",
    "                              epochs = 10,\n",
    "                              validation_data = validation_generator,\n",
    "                              callbacks = callbacks_list,\n",
    "#                              samples_per_epoch = train_generator.samples,\n",
    "#                              nb_epoch= nb_epoch,\n",
    "#                              validation_data = validation_generator,\n",
    "#                               nb_val_samples = validation_generator.samples,\n",
    "#                               callbacks = callbacks_list,\n",
    "                              )\n"
   ]
  },
  {
   "cell_type": "code",
   "execution_count": 12,
   "id": "4cd01105",
   "metadata": {},
   "outputs": [
    {
     "name": "stdout",
     "output_type": "stream",
     "text": [
      "dict_keys(['loss', 'accuracy', 'val_loss', 'val_accuracy'])\n"
     ]
    },
    {
     "data": {
      "image/png": "[encoded data removed]",
      "text/plain": [
       "<Figure size 432x288 with 1 Axes>"
      ]
     },
     "metadata": {
      "needs_background": "light"
     },
     "output_type": "display_data"
    },
    {
     "data": {
      "image/png": "[encoded data removed]",
      "text/plain": [
       "<Figure size 432x288 with 1 Axes>"
      ]
     },
     "metadata": {
      "needs_background": "light"
     },
     "output_type": "display_data"
    }
   ],
   "source": [
    "import matplotlib.pyplot as plt\n",
    "\n",
    "print(history.history.keys())\n",
    "# summarize history for accuracy\n",
    "plt.plot(history.history['accuracy'])\n",
    "plt.plot(history.history['val_accuracy'])\n",
    "plt.title('model accuracy')\n",
    "plt.ylabel('accuracy')\n",
    "plt.xlabel('epoch')\n",
    "plt.legend(['train', 'test'], loc='upper left')\n",
    "plt.show()\n",
    "# summarize history for loss\n",
    "plt.plot(history.history['loss'])\n",
    "plt.plot(history.history['val_loss'])\n",
    "plt.title('model loss')\n",
    "plt.ylabel('loss')\n",
    "plt.xlabel('epoch')\n",
    "plt.legend(['train', 'test'], loc='upper left')\n",
    "plt.show()"
   ]
  },
  {
   "cell_type": "code",
   "execution_count": 13,
   "id": "1dbedd0b",
   "metadata": {},
   "outputs": [],
   "source": [
    "score = model.evaluate_generator(validation_generator, validation_generator.samples/batch_size, workers=12)\n",
    "# print(score)"
   ]
  },
  {
   "cell_type": "code",
   "execution_count": 41,
   "id": "402efece",
   "metadata": {},
   "outputs": [
    {
     "name": "stdout",
     "output_type": "stream",
     "text": [
      "Correct: 15  Total:  60\n",
      "Loss:  0.3827793300151825 Accuracy:  0.8833333253860474\n"
     ]
    }
   ],
   "source": [
    "# scores = model.predict_generator(validation_generator, validation_generator.samples/batch_size, workers=12)\n",
    "\n",
    "correct = 0\n",
    "for i, n in enumerate(validation_generator.filenames):\n",
    "#     print(n)\n",
    "    if n.startswith(\"person_no_seatbelt\") and scores[i][0] >= 0.5:\n",
    "        correct += 1\n",
    "    if n.startswith(\"person_seatbelt\") and scores[i][0] < 0.5:\n",
    "        correct += 1\n",
    "\n",
    "print(\"Correct:\", correct, \" Total: \", len(validation_generator.filenames))\n",
    "print(\"Loss: \", score[0], \"Accuracy: \", score[1])"
   ]
  },
  {
   "cell_type": "code",
   "execution_count": null,
   "id": "d1d65b9d",
   "metadata": {},
   "outputs": [],
   "source": []
  }
 ],
 "metadata": {
  "kernelspec": {
   "display_name": "py36",
   "language": "python",
   "name": "py36"
  },
  "language_info": {
   "codemirror_mode": {
    "name": "ipython",
    "version": 3
   },
   "file_extension": ".py",
   "mimetype": "text/x-python",
   "name": "python",
   "nbconvert_exporter": "python",
   "pygments_lexer": "ipython3",
   "version": "3.6.13"
  }
 },
 "nbformat": 4,
 "nbformat_minor": 5
}
